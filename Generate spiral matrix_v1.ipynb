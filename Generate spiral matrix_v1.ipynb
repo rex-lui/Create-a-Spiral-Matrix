{
 "cells": [
  {
   "cell_type": "code",
   "execution_count": 1,
   "metadata": {},
   "outputs": [],
   "source": [
    "import numpy as np"
   ]
  },
  {
   "cell_type": "code",
   "execution_count": 2,
   "metadata": {},
   "outputs": [],
   "source": [
    "def spiral_matrix(n):\n",
    "    \n",
    "    #Pre-define parameter\n",
    "    row_start = 0\n",
    "    col_start = 0\n",
    "    row_end = n\n",
    "    col_end = n\n",
    "    num = 1\n",
    "    \n",
    "    #Create a n*n matrix\n",
    "    matrix = np.zeros(n*n).reshape(n,n)\n",
    "    \n",
    "    while num <= n**2:\n",
    "        #Fill in digit from left to right\n",
    "        for i in range(col_start,col_end):\n",
    "            matrix[row_start][i] = num\n",
    "            num+=1\n",
    "        \n",
    "        #Fill in digit from top to bottom\n",
    "        for i in range(row_start+1,row_end):\n",
    "            matrix[i][col_end-1] = num\n",
    "            num+=1\n",
    "            \n",
    "        #Fill in digit from right to left\n",
    "        for i in range(col_end-2,col_start-1,-1):\n",
    "            matrix[row_end-1][i] = num\n",
    "            num+=1\n",
    "            \n",
    "        #Fill in digit from bottom to top\n",
    "        for i in range(row_end-2,row_start,-1):\n",
    "            matrix[i][col_start] = num\n",
    "            num+=1\n",
    "        row_start += 1\n",
    "        col_start += 1\n",
    "        row_end -= 1\n",
    "        col_end -= 1\n",
    "    \n",
    "    return matrix"
   ]
  },
  {
   "cell_type": "code",
   "execution_count": 4,
   "metadata": {},
   "outputs": [
    {
     "data": {
      "text/plain": [
       "array([[ 1.,  2.,  3.,  4.],\n",
       "       [12., 13., 14.,  5.],\n",
       "       [11., 16., 15.,  6.],\n",
       "       [10.,  9.,  8.,  7.]])"
      ]
     },
     "execution_count": 4,
     "metadata": {},
     "output_type": "execute_result"
    }
   ],
   "source": [
    "spiral_matrix(4)"
   ]
  },
  {
   "cell_type": "code",
   "execution_count": 108,
   "metadata": {},
   "outputs": [],
   "source": [
    "def spiral_matrix(n, spiral):\n",
    "    \n",
    "    #Pre-define parameter\n",
    "    row_start = 0\n",
    "    col_start = 0\n",
    "    row_end = n\n",
    "    col_end = n\n",
    "    #num = 1\n",
    "    \n",
    "    #Create a n*n matrix\n",
    "    matrix = np.zeros(n*n).reshape(n,n)\n",
    "    \n",
    "    if spiral == 'clockwise':\n",
    "        num = 1\n",
    "        while num <= n**2:\n",
    "            #Fill in digit from left to right\n",
    "            for i in range(col_start,col_end):\n",
    "                matrix[row_start][i] = num\n",
    "                num+=1\n",
    "            \n",
    "            #Fill in digit from top to bottom\n",
    "            for i in range(row_start+1,row_end):\n",
    "                matrix[i][col_end-1] = num\n",
    "                num+=1\n",
    "                \n",
    "            #Fill in digit from right to left\n",
    "            for i in range(col_end-2,col_start-1,-1):\n",
    "                matrix[row_end-1][i] = num\n",
    "                num+=1\n",
    "                \n",
    "            #Fill in digit from bottom to top\n",
    "            for i in range(row_end-2,row_start,-1):\n",
    "                matrix[i][col_start] = num\n",
    "                num+=1\n",
    "                \n",
    "            row_start += 1\n",
    "            col_start += 1\n",
    "            row_end -= 1\n",
    "            col_end -= 1\n",
    "            \n",
    "    elif spiral == 'anti-clockwise':\n",
    "        num = 1\n",
    "        while num <= n**2:\n",
    "            #Fill in digit from top to bottom\n",
    "            for i in range(row_start,row_end):\n",
    "                matrix[i][col_start] = num\n",
    "                num+=1\n",
    "            \n",
    "            #Fill in digit from left to right\n",
    "            for i in range(col_start+1,col_end):\n",
    "                matrix[row_end-1][i] = num\n",
    "                num+=1\n",
    "            \n",
    "            #Fill in digit from bottom to top\n",
    "            for i in range(row_end-2,row_start-1,-1):\n",
    "                matrix[i][col_end-1] = num\n",
    "                num+=1\n",
    "                \n",
    "            #Fill in digit from right to left\n",
    "            for i in range(col_end-2,col_start,-1):\n",
    "                matrix[row_start][i] = num\n",
    "                num+=1\n",
    "                \n",
    "            row_start += 1\n",
    "            col_start += 1\n",
    "            row_end -= 1\n",
    "            col_end -= 1\n",
    "    \n",
    "    return matrix"
   ]
  },
  {
   "cell_type": "code",
   "execution_count": 112,
   "metadata": {},
   "outputs": [
    {
     "data": {
      "text/plain": [
       "array([[ 1.,  2.,  3.,  4.,  5.],\n",
       "       [16., 17., 18., 19.,  6.],\n",
       "       [15., 24., 25., 20.,  7.],\n",
       "       [14., 23., 22., 21.,  8.],\n",
       "       [13., 12., 11., 10.,  9.]])"
      ]
     },
     "execution_count": 112,
     "metadata": {},
     "output_type": "execute_result"
    }
   ],
   "source": [
    "spiral_matrix(5,'clockwise')"
   ]
  },
  {
   "cell_type": "code",
   "execution_count": null,
   "metadata": {},
   "outputs": [],
   "source": []
  }
 ],
 "metadata": {
  "kernelspec": {
   "display_name": "Python 3",
   "language": "python",
   "name": "python3"
  },
  "language_info": {
   "codemirror_mode": {
    "name": "ipython",
    "version": 3
   },
   "file_extension": ".py",
   "mimetype": "text/x-python",
   "name": "python",
   "nbconvert_exporter": "python",
   "pygments_lexer": "ipython3",
   "version": "3.7.4"
  }
 },
 "nbformat": 4,
 "nbformat_minor": 4
}
